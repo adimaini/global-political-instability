{
 "cells": [
  {
   "cell_type": "code",
   "execution_count": 2,
   "metadata": {
    "ExecuteTime": {
     "end_time": "2019-12-20T22:39:50.973526Z",
     "start_time": "2019-12-20T22:39:50.969043Z"
    }
   },
   "outputs": [],
   "source": [
    "import pandas as pd\n",
    "import numpy as np\n",
    "import matplotlib.pyplot as plt\n",
    "# from pymatch.Matcher import Matcher"
   ]
  },
  {
   "cell_type": "code",
   "execution_count": 3,
   "metadata": {
    "ExecuteTime": {
     "end_time": "2019-12-20T21:51:07.609062Z",
     "start_time": "2019-12-20T21:51:07.590690Z"
    }
   },
   "outputs": [],
   "source": [
    "#. import PITF provided replication data\n",
    "pitf_data_raw = pd.read_csv('./data/PITF Global Model Replication Data 121709.dta.csv', index_col=0)"
   ]
  },
  {
   "cell_type": "code",
   "execution_count": 63,
   "metadata": {},
   "outputs": [
    {
     "data": {
      "text/plain": [
       "Index(['sftgcode', 'year', 'byregn2', 'group', 'sftgname', 'feanctig',\n",
       "       'sftptv2a', 'sftpcons', 'ethherf', 'relhrel', 'disp4cat', 'sftpdur2',\n",
       "       'floil', 'maccat', 'logim', 'logtpop', 'logmtn', 'anocracy',\n",
       "       'democracy', 'log_gdpc', 'miss_ind', 'glb_ind', 'cwar_ind', 'reg_ind',\n",
       "       'sample'],\n",
       "      dtype='object')"
      ]
     },
     "execution_count": 63,
     "metadata": {},
     "output_type": "execute_result"
    }
   ],
   "source": [
    "pitf_data_raw.columns"
   ]
  },
  {
   "cell_type": "code",
   "execution_count": 4,
   "metadata": {
    "ExecuteTime": {
     "end_time": "2019-12-20T21:51:07.834303Z",
     "start_time": "2019-12-20T21:51:07.807832Z"
    },
    "scrolled": true
   },
   "outputs": [
    {
     "data": {
      "text/html": [
       "<div>\n",
       "<style scoped>\n",
       "    .dataframe tbody tr th:only-of-type {\n",
       "        vertical-align: middle;\n",
       "    }\n",
       "\n",
       "    .dataframe tbody tr th {\n",
       "        vertical-align: top;\n",
       "    }\n",
       "\n",
       "    .dataframe thead th {\n",
       "        text-align: right;\n",
       "    }\n",
       "</style>\n",
       "<table border=\"1\" class=\"dataframe\">\n",
       "  <thead>\n",
       "    <tr style=\"text-align: right;\">\n",
       "      <th></th>\n",
       "      <th>sftgcode</th>\n",
       "      <th>year</th>\n",
       "      <th>byregn2</th>\n",
       "      <th>group</th>\n",
       "      <th>sftgname</th>\n",
       "      <th>feanctig</th>\n",
       "      <th>sftptv2a</th>\n",
       "      <th>sftpcons</th>\n",
       "      <th>ethherf</th>\n",
       "      <th>relhrel</th>\n",
       "      <th>...</th>\n",
       "      <th>logtpop</th>\n",
       "      <th>logmtn</th>\n",
       "      <th>anocracy</th>\n",
       "      <th>democracy</th>\n",
       "      <th>log_gdpc</th>\n",
       "      <th>miss_ind</th>\n",
       "      <th>glb_ind</th>\n",
       "      <th>cwar_ind</th>\n",
       "      <th>reg_ind</th>\n",
       "      <th>sample</th>\n",
       "    </tr>\n",
       "  </thead>\n",
       "  <tbody>\n",
       "    <tr>\n",
       "      <td>0</td>\n",
       "      <td>AFG</td>\n",
       "      <td>1957</td>\n",
       "      <td>5</td>\n",
       "      <td>1</td>\n",
       "      <td>Afghanistan</td>\n",
       "      <td>0</td>\n",
       "      <td>Full autocracy</td>\n",
       "      <td>0</td>\n",
       "      <td>0.361778</td>\n",
       "      <td>0.616318</td>\n",
       "      <td>...</td>\n",
       "      <td>9.106534</td>\n",
       "      <td>4.198705</td>\n",
       "      <td>0</td>\n",
       "      <td>0</td>\n",
       "      <td>5.030438</td>\n",
       "      <td>0</td>\n",
       "      <td>Y</td>\n",
       "      <td>NaN</td>\n",
       "      <td>Y</td>\n",
       "      <td>1.0</td>\n",
       "    </tr>\n",
       "    <tr>\n",
       "      <td>1</td>\n",
       "      <td>AFG</td>\n",
       "      <td>1962</td>\n",
       "      <td>5</td>\n",
       "      <td>1</td>\n",
       "      <td>Afghanistan</td>\n",
       "      <td>0</td>\n",
       "      <td>Full autocracy</td>\n",
       "      <td>0</td>\n",
       "      <td>0.361778</td>\n",
       "      <td>0.616318</td>\n",
       "      <td>...</td>\n",
       "      <td>9.215427</td>\n",
       "      <td>4.198705</td>\n",
       "      <td>0</td>\n",
       "      <td>0</td>\n",
       "      <td>5.176150</td>\n",
       "      <td>0</td>\n",
       "      <td>Y</td>\n",
       "      <td>Y</td>\n",
       "      <td>NaN</td>\n",
       "      <td>1.0</td>\n",
       "    </tr>\n",
       "    <tr>\n",
       "      <td>2</td>\n",
       "      <td>AFG</td>\n",
       "      <td>1970</td>\n",
       "      <td>5</td>\n",
       "      <td>1</td>\n",
       "      <td>Afghanistan</td>\n",
       "      <td>0</td>\n",
       "      <td>Full autocracy</td>\n",
       "      <td>0</td>\n",
       "      <td>0.361778</td>\n",
       "      <td>0.616318</td>\n",
       "      <td>...</td>\n",
       "      <td>9.400713</td>\n",
       "      <td>4.198705</td>\n",
       "      <td>0</td>\n",
       "      <td>0</td>\n",
       "      <td>5.480639</td>\n",
       "      <td>0</td>\n",
       "      <td>Y</td>\n",
       "      <td>Y</td>\n",
       "      <td>NaN</td>\n",
       "      <td>1.0</td>\n",
       "    </tr>\n",
       "    <tr>\n",
       "      <td>3</td>\n",
       "      <td>AFG</td>\n",
       "      <td>1978</td>\n",
       "      <td>5</td>\n",
       "      <td>1</td>\n",
       "      <td>Afghanistan</td>\n",
       "      <td>0</td>\n",
       "      <td>Full autocracy</td>\n",
       "      <td>1</td>\n",
       "      <td>0.391428</td>\n",
       "      <td>0.616318</td>\n",
       "      <td>...</td>\n",
       "      <td>9.592332</td>\n",
       "      <td>4.198705</td>\n",
       "      <td>0</td>\n",
       "      <td>0</td>\n",
       "      <td>5.929589</td>\n",
       "      <td>0</td>\n",
       "      <td>Y</td>\n",
       "      <td>Y</td>\n",
       "      <td>NaN</td>\n",
       "      <td>1.0</td>\n",
       "    </tr>\n",
       "    <tr>\n",
       "      <td>4</td>\n",
       "      <td>ALB</td>\n",
       "      <td>1963</td>\n",
       "      <td>3</td>\n",
       "      <td>1</td>\n",
       "      <td>Albania</td>\n",
       "      <td>0</td>\n",
       "      <td>Full autocracy</td>\n",
       "      <td>0</td>\n",
       "      <td>0.904293</td>\n",
       "      <td>0.346207</td>\n",
       "      <td>...</td>\n",
       "      <td>7.415175</td>\n",
       "      <td>2.270523</td>\n",
       "      <td>0</td>\n",
       "      <td>0</td>\n",
       "      <td>6.206576</td>\n",
       "      <td>0</td>\n",
       "      <td>Y</td>\n",
       "      <td>Y</td>\n",
       "      <td>NaN</td>\n",
       "      <td>1.0</td>\n",
       "    </tr>\n",
       "  </tbody>\n",
       "</table>\n",
       "<p>5 rows × 25 columns</p>\n",
       "</div>"
      ],
      "text/plain": [
       "  sftgcode  year  byregn2  group     sftgname  feanctig        sftptv2a  \\\n",
       "0      AFG  1957        5      1  Afghanistan         0  Full autocracy   \n",
       "1      AFG  1962        5      1  Afghanistan         0  Full autocracy   \n",
       "2      AFG  1970        5      1  Afghanistan         0  Full autocracy   \n",
       "3      AFG  1978        5      1  Afghanistan         0  Full autocracy   \n",
       "4      ALB  1963        3      1      Albania         0  Full autocracy   \n",
       "\n",
       "   sftpcons   ethherf   relhrel  ...   logtpop    logmtn  anocracy  democracy  \\\n",
       "0         0  0.361778  0.616318  ...  9.106534  4.198705         0          0   \n",
       "1         0  0.361778  0.616318  ...  9.215427  4.198705         0          0   \n",
       "2         0  0.361778  0.616318  ...  9.400713  4.198705         0          0   \n",
       "3         1  0.391428  0.616318  ...  9.592332  4.198705         0          0   \n",
       "4         0  0.904293  0.346207  ...  7.415175  2.270523         0          0   \n",
       "\n",
       "   log_gdpc  miss_ind  glb_ind  cwar_ind  reg_ind  sample  \n",
       "0  5.030438         0        Y       NaN        Y     1.0  \n",
       "1  5.176150         0        Y         Y      NaN     1.0  \n",
       "2  5.480639         0        Y         Y      NaN     1.0  \n",
       "3  5.929589         0        Y         Y      NaN     1.0  \n",
       "4  6.206576         0        Y         Y      NaN     1.0  \n",
       "\n",
       "[5 rows x 25 columns]"
      ]
     },
     "execution_count": 4,
     "metadata": {},
     "output_type": "execute_result"
    }
   ],
   "source": [
    "pitf_data_raw.head(5)"
   ]
  },
  {
   "cell_type": "code",
   "execution_count": 5,
   "metadata": {
    "ExecuteTime": {
     "end_time": "2019-12-21T22:41:58.821324Z",
     "start_time": "2019-12-21T22:41:58.742373Z"
    },
    "scrolled": false
   },
   "outputs": [
    {
     "data": {
      "text/html": [
       "<div>\n",
       "<style scoped>\n",
       "    .dataframe tbody tr th:only-of-type {\n",
       "        vertical-align: middle;\n",
       "    }\n",
       "\n",
       "    .dataframe tbody tr th {\n",
       "        vertical-align: top;\n",
       "    }\n",
       "\n",
       "    .dataframe thead th {\n",
       "        text-align: right;\n",
       "    }\n",
       "</style>\n",
       "<table border=\"1\" class=\"dataframe\">\n",
       "  <thead>\n",
       "    <tr style=\"text-align: right;\">\n",
       "      <th></th>\n",
       "      <th>sftgcode</th>\n",
       "      <th>year</th>\n",
       "      <th>byregn2</th>\n",
       "      <th>group</th>\n",
       "      <th>sftgname</th>\n",
       "      <th>feanctig</th>\n",
       "      <th>sftptv2a</th>\n",
       "      <th>sftpcons</th>\n",
       "      <th>ethherf</th>\n",
       "      <th>relhrel</th>\n",
       "      <th>...</th>\n",
       "      <th>logtpop</th>\n",
       "      <th>logmtn</th>\n",
       "      <th>anocracy</th>\n",
       "      <th>democracy</th>\n",
       "      <th>log_gdpc</th>\n",
       "      <th>miss_ind</th>\n",
       "      <th>glb_ind</th>\n",
       "      <th>cwar_ind</th>\n",
       "      <th>reg_ind</th>\n",
       "      <th>sample</th>\n",
       "    </tr>\n",
       "  </thead>\n",
       "  <tbody>\n",
       "    <tr>\n",
       "      <td>0</td>\n",
       "      <td>AFG</td>\n",
       "      <td>1957</td>\n",
       "      <td>5</td>\n",
       "      <td>1</td>\n",
       "      <td>Afghanistan</td>\n",
       "      <td>0</td>\n",
       "      <td>Full autocracy</td>\n",
       "      <td>0</td>\n",
       "      <td>0.361778</td>\n",
       "      <td>0.616318</td>\n",
       "      <td>...</td>\n",
       "      <td>9.106534</td>\n",
       "      <td>4.198705</td>\n",
       "      <td>0</td>\n",
       "      <td>0</td>\n",
       "      <td>5.030438</td>\n",
       "      <td>0</td>\n",
       "      <td>Y</td>\n",
       "      <td>NaN</td>\n",
       "      <td>Y</td>\n",
       "      <td>1.0</td>\n",
       "    </tr>\n",
       "    <tr>\n",
       "      <td>468</td>\n",
       "      <td>AFG</td>\n",
       "      <td>1957</td>\n",
       "      <td>5</td>\n",
       "      <td>1</td>\n",
       "      <td>Afghanistan</td>\n",
       "      <td>0</td>\n",
       "      <td>Full autocracy</td>\n",
       "      <td>0</td>\n",
       "      <td>0.361778</td>\n",
       "      <td>0.616318</td>\n",
       "      <td>...</td>\n",
       "      <td>9.106534</td>\n",
       "      <td>4.198705</td>\n",
       "      <td>0</td>\n",
       "      <td>0</td>\n",
       "      <td>5.030438</td>\n",
       "      <td>0</td>\n",
       "      <td>Y</td>\n",
       "      <td>NaN</td>\n",
       "      <td>Y</td>\n",
       "      <td>2.0</td>\n",
       "    </tr>\n",
       "    <tr>\n",
       "      <td>936</td>\n",
       "      <td>AFG</td>\n",
       "      <td>1957</td>\n",
       "      <td>5</td>\n",
       "      <td>1</td>\n",
       "      <td>Afghanistan</td>\n",
       "      <td>0</td>\n",
       "      <td>Full autocracy</td>\n",
       "      <td>0</td>\n",
       "      <td>0.361778</td>\n",
       "      <td>0.616318</td>\n",
       "      <td>...</td>\n",
       "      <td>9.106534</td>\n",
       "      <td>4.198705</td>\n",
       "      <td>0</td>\n",
       "      <td>0</td>\n",
       "      <td>5.030438</td>\n",
       "      <td>0</td>\n",
       "      <td>Y</td>\n",
       "      <td>NaN</td>\n",
       "      <td>Y</td>\n",
       "      <td>3.0</td>\n",
       "    </tr>\n",
       "    <tr>\n",
       "      <td>1</td>\n",
       "      <td>AFG</td>\n",
       "      <td>1962</td>\n",
       "      <td>5</td>\n",
       "      <td>1</td>\n",
       "      <td>Afghanistan</td>\n",
       "      <td>0</td>\n",
       "      <td>Full autocracy</td>\n",
       "      <td>0</td>\n",
       "      <td>0.361778</td>\n",
       "      <td>0.616318</td>\n",
       "      <td>...</td>\n",
       "      <td>9.215427</td>\n",
       "      <td>4.198705</td>\n",
       "      <td>0</td>\n",
       "      <td>0</td>\n",
       "      <td>5.176150</td>\n",
       "      <td>0</td>\n",
       "      <td>Y</td>\n",
       "      <td>Y</td>\n",
       "      <td>NaN</td>\n",
       "      <td>1.0</td>\n",
       "    </tr>\n",
       "    <tr>\n",
       "      <td>2</td>\n",
       "      <td>AFG</td>\n",
       "      <td>1970</td>\n",
       "      <td>5</td>\n",
       "      <td>1</td>\n",
       "      <td>Afghanistan</td>\n",
       "      <td>0</td>\n",
       "      <td>Full autocracy</td>\n",
       "      <td>0</td>\n",
       "      <td>0.361778</td>\n",
       "      <td>0.616318</td>\n",
       "      <td>...</td>\n",
       "      <td>9.400713</td>\n",
       "      <td>4.198705</td>\n",
       "      <td>0</td>\n",
       "      <td>0</td>\n",
       "      <td>5.480639</td>\n",
       "      <td>0</td>\n",
       "      <td>Y</td>\n",
       "      <td>Y</td>\n",
       "      <td>NaN</td>\n",
       "      <td>1.0</td>\n",
       "    </tr>\n",
       "    <tr>\n",
       "      <td>...</td>\n",
       "      <td>...</td>\n",
       "      <td>...</td>\n",
       "      <td>...</td>\n",
       "      <td>...</td>\n",
       "      <td>...</td>\n",
       "      <td>...</td>\n",
       "      <td>...</td>\n",
       "      <td>...</td>\n",
       "      <td>...</td>\n",
       "      <td>...</td>\n",
       "      <td>...</td>\n",
       "      <td>...</td>\n",
       "      <td>...</td>\n",
       "      <td>...</td>\n",
       "      <td>...</td>\n",
       "      <td>...</td>\n",
       "      <td>...</td>\n",
       "      <td>...</td>\n",
       "      <td>...</td>\n",
       "      <td>...</td>\n",
       "      <td>...</td>\n",
       "    </tr>\n",
       "    <tr>\n",
       "      <td>1403</td>\n",
       "      <td>ZIM</td>\n",
       "      <td>1992</td>\n",
       "      <td>1</td>\n",
       "      <td>2</td>\n",
       "      <td>Zimbabwe</td>\n",
       "      <td>0</td>\n",
       "      <td>Full autocracy</td>\n",
       "      <td>0</td>\n",
       "      <td>0.574293</td>\n",
       "      <td>0.257465</td>\n",
       "      <td>...</td>\n",
       "      <td>9.255982</td>\n",
       "      <td>1.360977</td>\n",
       "      <td>0</td>\n",
       "      <td>0</td>\n",
       "      <td>7.838095</td>\n",
       "      <td>0</td>\n",
       "      <td>Y</td>\n",
       "      <td>Y</td>\n",
       "      <td>NaN</td>\n",
       "      <td>3.0</td>\n",
       "    </tr>\n",
       "    <tr>\n",
       "      <td>465</td>\n",
       "      <td>ZIM</td>\n",
       "      <td>1995</td>\n",
       "      <td>1</td>\n",
       "      <td>1</td>\n",
       "      <td>Zimbabwe</td>\n",
       "      <td>0</td>\n",
       "      <td>Full autocracy</td>\n",
       "      <td>0</td>\n",
       "      <td>0.574293</td>\n",
       "      <td>0.257465</td>\n",
       "      <td>...</td>\n",
       "      <td>9.330077</td>\n",
       "      <td>1.360977</td>\n",
       "      <td>0</td>\n",
       "      <td>0</td>\n",
       "      <td>7.803480</td>\n",
       "      <td>0</td>\n",
       "      <td>Y</td>\n",
       "      <td>NaN</td>\n",
       "      <td>Y</td>\n",
       "      <td>1.0</td>\n",
       "    </tr>\n",
       "    <tr>\n",
       "      <td>466</td>\n",
       "      <td>ZIM</td>\n",
       "      <td>1998</td>\n",
       "      <td>1</td>\n",
       "      <td>2</td>\n",
       "      <td>Zimbabwe</td>\n",
       "      <td>0</td>\n",
       "      <td>Full autocracy</td>\n",
       "      <td>0</td>\n",
       "      <td>0.574293</td>\n",
       "      <td>0.257465</td>\n",
       "      <td>...</td>\n",
       "      <td>9.388319</td>\n",
       "      <td>1.360977</td>\n",
       "      <td>0</td>\n",
       "      <td>0</td>\n",
       "      <td>7.958657</td>\n",
       "      <td>0</td>\n",
       "      <td>Y</td>\n",
       "      <td>Y</td>\n",
       "      <td>NaN</td>\n",
       "      <td>1.0</td>\n",
       "    </tr>\n",
       "    <tr>\n",
       "      <td>935</td>\n",
       "      <td>ZIM</td>\n",
       "      <td>1998</td>\n",
       "      <td>1</td>\n",
       "      <td>2</td>\n",
       "      <td>Zimbabwe</td>\n",
       "      <td>0</td>\n",
       "      <td>Full autocracy</td>\n",
       "      <td>0</td>\n",
       "      <td>0.574293</td>\n",
       "      <td>0.257465</td>\n",
       "      <td>...</td>\n",
       "      <td>9.388319</td>\n",
       "      <td>1.360977</td>\n",
       "      <td>0</td>\n",
       "      <td>0</td>\n",
       "      <td>7.958657</td>\n",
       "      <td>0</td>\n",
       "      <td>Y</td>\n",
       "      <td>Y</td>\n",
       "      <td>NaN</td>\n",
       "      <td>2.0</td>\n",
       "    </tr>\n",
       "    <tr>\n",
       "      <td>467</td>\n",
       "      <td>ZIM</td>\n",
       "      <td>2002</td>\n",
       "      <td>1</td>\n",
       "      <td>1</td>\n",
       "      <td>Zimbabwe</td>\n",
       "      <td>0</td>\n",
       "      <td>Full autocracy</td>\n",
       "      <td>0</td>\n",
       "      <td>0.574556</td>\n",
       "      <td>0.252510</td>\n",
       "      <td>...</td>\n",
       "      <td>9.445413</td>\n",
       "      <td>1.360977</td>\n",
       "      <td>1</td>\n",
       "      <td>0</td>\n",
       "      <td>7.865967</td>\n",
       "      <td>0</td>\n",
       "      <td>Y</td>\n",
       "      <td>Y</td>\n",
       "      <td>NaN</td>\n",
       "      <td>1.0</td>\n",
       "    </tr>\n",
       "  </tbody>\n",
       "</table>\n",
       "<p>1404 rows × 25 columns</p>\n",
       "</div>"
      ],
      "text/plain": [
       "     sftgcode  year  byregn2  group     sftgname  feanctig        sftptv2a  \\\n",
       "0         AFG  1957        5      1  Afghanistan         0  Full autocracy   \n",
       "468       AFG  1957        5      1  Afghanistan         0  Full autocracy   \n",
       "936       AFG  1957        5      1  Afghanistan         0  Full autocracy   \n",
       "1         AFG  1962        5      1  Afghanistan         0  Full autocracy   \n",
       "2         AFG  1970        5      1  Afghanistan         0  Full autocracy   \n",
       "...       ...   ...      ...    ...          ...       ...             ...   \n",
       "1403      ZIM  1992        1      2     Zimbabwe         0  Full autocracy   \n",
       "465       ZIM  1995        1      1     Zimbabwe         0  Full autocracy   \n",
       "466       ZIM  1998        1      2     Zimbabwe         0  Full autocracy   \n",
       "935       ZIM  1998        1      2     Zimbabwe         0  Full autocracy   \n",
       "467       ZIM  2002        1      1     Zimbabwe         0  Full autocracy   \n",
       "\n",
       "      sftpcons   ethherf   relhrel  ...   logtpop    logmtn  anocracy  \\\n",
       "0            0  0.361778  0.616318  ...  9.106534  4.198705         0   \n",
       "468          0  0.361778  0.616318  ...  9.106534  4.198705         0   \n",
       "936          0  0.361778  0.616318  ...  9.106534  4.198705         0   \n",
       "1            0  0.361778  0.616318  ...  9.215427  4.198705         0   \n",
       "2            0  0.361778  0.616318  ...  9.400713  4.198705         0   \n",
       "...        ...       ...       ...  ...       ...       ...       ...   \n",
       "1403         0  0.574293  0.257465  ...  9.255982  1.360977         0   \n",
       "465          0  0.574293  0.257465  ...  9.330077  1.360977         0   \n",
       "466          0  0.574293  0.257465  ...  9.388319  1.360977         0   \n",
       "935          0  0.574293  0.257465  ...  9.388319  1.360977         0   \n",
       "467          0  0.574556  0.252510  ...  9.445413  1.360977         1   \n",
       "\n",
       "      democracy  log_gdpc  miss_ind  glb_ind  cwar_ind  reg_ind  sample  \n",
       "0             0  5.030438         0        Y       NaN        Y     1.0  \n",
       "468           0  5.030438         0        Y       NaN        Y     2.0  \n",
       "936           0  5.030438         0        Y       NaN        Y     3.0  \n",
       "1             0  5.176150         0        Y         Y      NaN     1.0  \n",
       "2             0  5.480639         0        Y         Y      NaN     1.0  \n",
       "...         ...       ...       ...      ...       ...      ...     ...  \n",
       "1403          0  7.838095         0        Y         Y      NaN     3.0  \n",
       "465           0  7.803480         0        Y       NaN        Y     1.0  \n",
       "466           0  7.958657         0        Y         Y      NaN     1.0  \n",
       "935           0  7.958657         0        Y         Y      NaN     2.0  \n",
       "467           0  7.865967         0        Y         Y      NaN     1.0  \n",
       "\n",
       "[1404 rows x 25 columns]"
      ]
     },
     "execution_count": 5,
     "metadata": {},
     "output_type": "execute_result"
    }
   ],
   "source": [
    "pitf_data_raw.sort_values(['sftgcode', 'year'])"
   ]
  },
  {
   "cell_type": "code",
   "execution_count": 6,
   "metadata": {
    "ExecuteTime": {
     "end_time": "2019-12-20T21:51:08.004569Z",
     "start_time": "2019-12-20T21:51:07.999786Z"
    }
   },
   "outputs": [
    {
     "data": {
      "text/plain": [
       "Index(['sftgcode', 'year', 'byregn2', 'group', 'sftgname', 'feanctig',\n",
       "       'sftptv2a', 'sftpcons', 'ethherf', 'relhrel', 'disp4cat', 'sftpdur2',\n",
       "       'floil', 'maccat', 'logim', 'logtpop', 'logmtn', 'anocracy',\n",
       "       'democracy', 'log_gdpc', 'miss_ind', 'glb_ind', 'cwar_ind', 'reg_ind',\n",
       "       'sample'],\n",
       "      dtype='object')"
      ]
     },
     "execution_count": 6,
     "metadata": {},
     "output_type": "execute_result"
    }
   ],
   "source": [
    "pitf_data_raw.columns"
   ]
  },
  {
   "cell_type": "code",
   "execution_count": 7,
   "metadata": {
    "ExecuteTime": {
     "end_time": "2019-12-20T21:51:08.216097Z",
     "start_time": "2019-12-20T21:51:08.209725Z"
    }
   },
   "outputs": [],
   "source": [
    "cols_to_use = ['sftgcode', 'year', 'byregn2', 'sftptv2a', 'group',\n",
    "               'sftpcons', 'disp4cat', 'maccat', 'logim', 'sample']\n",
    "pitf_data = pitf_data_raw[cols_to_use]"
   ]
  },
  {
   "cell_type": "code",
   "execution_count": 8,
   "metadata": {
    "ExecuteTime": {
     "end_time": "2019-12-20T21:51:08.435572Z",
     "start_time": "2019-12-20T21:51:08.427289Z"
    }
   },
   "outputs": [],
   "source": [
    "#. grouping together these 4 subsets to get the match cases\n",
    "pitf_matched = pitf_data.sort_values(by=['sample', 'year', 'byregn2', 'group'])"
   ]
  },
  {
   "cell_type": "code",
   "execution_count": 9,
   "metadata": {
    "ExecuteTime": {
     "end_time": "2019-12-20T21:51:08.646570Z",
     "start_time": "2019-12-20T21:51:08.632291Z"
    }
   },
   "outputs": [],
   "source": [
    "#. make dummies for regime types\n",
    "# pitf_data = pd.get_dummies(pitf_data, drop_first=True)\n",
    "pitf_matched['sftgcode'] = pitf_matched['sftgcode'].astype('category')\n",
    "pitf_matched['sftptv2a'] = pitf_matched['sftptv2a'].astype('category')\n",
    "pitf_matched['byregn2'] = pitf_matched['byregn2'].astype('category')\n",
    "pitf_matched['maccat'] = pitf_matched['maccat'].astype('category')\n",
    "pitf_matched['disp4cat'] = pitf_matched['disp4cat'].astype('category')\n",
    "pitf_matched['sftpcons'] = pitf_matched['sftpcons'].astype('category')\n",
    "pitf_matched['group'] = pitf_matched['group'].astype('category')"
   ]
  },
  {
   "cell_type": "code",
   "execution_count": 10,
   "metadata": {
    "ExecuteTime": {
     "end_time": "2019-12-20T21:51:08.865046Z",
     "start_time": "2019-12-20T21:51:08.860112Z"
    }
   },
   "outputs": [],
   "source": [
    "#. creating match_id\n",
    "pitf_matched['match_id'] = np.sort(np.array(list(np.arange(0, 351))*4))"
   ]
  },
  {
   "cell_type": "code",
   "execution_count": 11,
   "metadata": {
    "ExecuteTime": {
     "end_time": "2019-12-20T21:51:09.124123Z",
     "start_time": "2019-12-20T21:51:09.102291Z"
    }
   },
   "outputs": [],
   "source": [
    "#. export to R studio, choose csv format\n",
    "pitf_matched.to_csv(path_or_buf='./python_cleaned_file.csv')"
   ]
  },
  {
   "cell_type": "code",
   "execution_count": 12,
   "metadata": {
    "ExecuteTime": {
     "end_time": "2019-12-20T21:51:09.377197Z",
     "start_time": "2019-12-20T21:51:09.324851Z"
    }
   },
   "outputs": [],
   "source": [
    "#. make dummy variables\n",
    "pitf_matched_dr = pitf_matched.drop(columns=['sftgcode', 'year', 'group', 'sample'])\n",
    "pitf_matched_dm = pd.get_dummies(pitf_matched_dr, drop_first=True).drop(columns='match_id')\n",
    "\n",
    "#. train_test split data\n",
    "from sklearn.model_selection import train_test_split\n",
    "X = pitf_matched_dm.drop(columns=['sftpcons_1'])\n",
    "Y = pitf_matched_dm['sftpcons_1']\n",
    "x_train, x_test, Y_train, Y_test = train_test_split(X, Y, random_state=499, stratify=pitf_matched['match_id'])"
   ]
  },
  {
   "cell_type": "code",
   "execution_count": 13,
   "metadata": {
    "ExecuteTime": {
     "end_time": "2019-12-20T21:51:09.547603Z",
     "start_time": "2019-12-20T21:51:09.544648Z"
    }
   },
   "outputs": [],
   "source": [
    "# #. Addressing class imbalance by upsampling our CASE data to match CONTROL data\n",
    "# combined_train = pd.DataFrame(np.concatenate([x_train, Y_train[:,None]], axis=1))\n",
    "# combined_train.columns = pitf_matched_dm.columns\n",
    "\n",
    "# #  split conflict and stable class data\n",
    "# conflict = combined_train[combined_train['sftpcons_1'] == 1]\n",
    "# stable = combined_train[combined_train['sftpcons_1'] == 0]\n",
    "\n",
    "# #. upscale 'conflict' class data\n",
    "# from sklearn.utils import resample\n",
    "# conflict_upsampled = resample(conflict, n_samples=len(stable), random_state=40)\n",
    "\n",
    "# #. combine upscaled conflict data and stable data\n",
    "# rebalanced_data = pd.concat([conflict_upsampled, stable])\n",
    "\n",
    "# #. breaking up rebalanced data into x_train and Y_train again\n",
    "# x_train = rebalanced_data.drop(columns=['sftpcons_1'])\n",
    "# Y_train = rebalanced_data['sftpcons_1']"
   ]
  },
  {
   "cell_type": "code",
   "execution_count": 14,
   "metadata": {
    "ExecuteTime": {
     "end_time": "2019-12-20T21:51:10.000180Z",
     "start_time": "2019-12-20T21:51:09.991589Z"
    }
   },
   "outputs": [
    {
     "data": {
      "text/plain": [
       "LogisticRegression(C=1.0, class_weight=None, dual=False, fit_intercept=True,\n",
       "                   intercept_scaling=1, l1_ratio=None, max_iter=100,\n",
       "                   multi_class='auto', n_jobs=None, penalty='l2',\n",
       "                   random_state=None, solver='lbfgs', tol=0.0001, verbose=0,\n",
       "                   warm_start=False)"
      ]
     },
     "execution_count": 14,
     "metadata": {},
     "output_type": "execute_result"
    }
   ],
   "source": [
    "from sklearn.linear_model import LogisticRegression\n",
    "lr = LogisticRegression()\n",
    "lr.fit(x_train, Y_train)"
   ]
  },
  {
   "cell_type": "code",
   "execution_count": 15,
   "metadata": {
    "ExecuteTime": {
     "end_time": "2019-12-20T21:51:10.386717Z",
     "start_time": "2019-12-20T21:51:10.381740Z"
    }
   },
   "outputs": [],
   "source": [
    "prediction = lr.predict(x_test)"
   ]
  },
  {
   "cell_type": "code",
   "execution_count": 16,
   "metadata": {
    "ExecuteTime": {
     "end_time": "2019-12-20T21:51:10.882834Z",
     "start_time": "2019-12-20T21:51:10.871094Z"
    }
   },
   "outputs": [
    {
     "name": "stdout",
     "output_type": "stream",
     "text": [
      "              precision    recall  f1-score   support\n",
      "\n",
      "           0       0.87      0.95      0.91       282\n",
      "           1       0.67      0.42      0.52        69\n",
      "\n",
      "    accuracy                           0.85       351\n",
      "   macro avg       0.77      0.69      0.71       351\n",
      "weighted avg       0.83      0.85      0.83       351\n",
      "\n"
     ]
    }
   ],
   "source": [
    "from sklearn.metrics import classification_report, confusion_matrix\n",
    "print(classification_report(Y_test, prediction))"
   ]
  },
  {
   "cell_type": "code",
   "execution_count": 17,
   "metadata": {
    "ExecuteTime": {
     "end_time": "2019-12-20T21:51:11.549976Z",
     "start_time": "2019-12-20T21:51:11.541469Z"
    }
   },
   "outputs": [
    {
     "name": "stdout",
     "output_type": "stream",
     "text": [
      "[[268  14]\n",
      " [ 40  29]]\n"
     ]
    }
   ],
   "source": [
    "print(confusion_matrix(Y_test, prediction))"
   ]
  },
  {
   "cell_type": "code",
   "execution_count": 18,
   "metadata": {
    "ExecuteTime": {
     "end_time": "2019-12-20T22:43:50.618962Z",
     "start_time": "2019-12-20T22:43:50.610542Z"
    }
   },
   "outputs": [
    {
     "data": {
      "text/plain": [
       "1956    36\n",
       "1957    12\n",
       "1958    48\n",
       "1959    12\n",
       "1960    24\n",
       "1961    48\n",
       "1962    24\n",
       "1963    48\n",
       "1964    12\n",
       "1965    36\n",
       "1966    48\n",
       "1967    36\n",
       "1968    36\n",
       "1969    36\n",
       "1970    60\n",
       "1971    48\n",
       "1972    48\n",
       "1973    24\n",
       "1974    24\n",
       "1975    24\n",
       "1976    12\n",
       "1977    36\n",
       "1978    36\n",
       "1980    48\n",
       "1981    24\n",
       "1982    12\n",
       "1983    48\n",
       "1984    24\n",
       "1985    12\n",
       "1986    12\n",
       "1987    24\n",
       "1988    36\n",
       "1989    24\n",
       "1990    24\n",
       "1991    72\n",
       "1992    36\n",
       "1994    36\n",
       "1995    36\n",
       "1996    48\n",
       "1997    24\n",
       "1998    36\n",
       "1999    24\n",
       "2000    12\n",
       "2002    12\n",
       "2003    12\n",
       "Name: year, dtype: int64"
      ]
     },
     "execution_count": 18,
     "metadata": {},
     "output_type": "execute_result"
    }
   ],
   "source": [
    "#  splitting up test and training data by years\n",
    "pitf_data['year'].value_counts().sort_index()"
   ]
  },
  {
   "cell_type": "code",
   "execution_count": 19,
   "metadata": {
    "ExecuteTime": {
     "end_time": "2019-12-20T21:52:57.291171Z",
     "start_time": "2019-12-20T21:52:57.285331Z"
    }
   },
   "outputs": [
    {
     "data": {
      "text/plain": [
       "1956      36\n",
       "1957      48\n",
       "1958      96\n",
       "1959     108\n",
       "1960     132\n",
       "1961     180\n",
       "1962     204\n",
       "1963     252\n",
       "1964     264\n",
       "1965     300\n",
       "1966     348\n",
       "1967     384\n",
       "1968     420\n",
       "1969     456\n",
       "1970     516\n",
       "1971     564\n",
       "1972     612\n",
       "1973     636\n",
       "1974     660\n",
       "1975     684\n",
       "1976     696\n",
       "1977     732\n",
       "1978     768\n",
       "1980     816\n",
       "1981     840\n",
       "1982     852\n",
       "1983     900\n",
       "1984     924\n",
       "1985     936\n",
       "1986     948\n",
       "1987     972\n",
       "1988    1008\n",
       "1989    1032\n",
       "1990    1056\n",
       "1991    1128\n",
       "1992    1164\n",
       "1994    1200\n",
       "1995    1236\n",
       "1996    1284\n",
       "1997    1308\n",
       "1998    1344\n",
       "1999    1368\n",
       "2000    1380\n",
       "2002    1392\n",
       "2003    1404\n",
       "Name: year, dtype: int64"
      ]
     },
     "execution_count": 19,
     "metadata": {},
     "output_type": "execute_result"
    }
   ],
   "source": [
    "#  splitting up test and training data by years\n",
    "pitf_data['year'].value_counts().sort_index().cumsum()"
   ]
  },
  {
   "cell_type": "markdown",
   "metadata": {},
   "source": [
    "train and test original splits: \n",
    "\n",
    "    train set: 75% data, 1032 samples, 1956-1989\n",
    "    test set: 25% data, 336 samples, 1989-1999 "
   ]
  },
  {
   "cell_type": "code",
   "execution_count": 64,
   "metadata": {},
   "outputs": [
    {
     "data": {
      "text/html": [
       "<div>\n",
       "<style scoped>\n",
       "    .dataframe tbody tr th:only-of-type {\n",
       "        vertical-align: middle;\n",
       "    }\n",
       "\n",
       "    .dataframe tbody tr th {\n",
       "        vertical-align: top;\n",
       "    }\n",
       "\n",
       "    .dataframe thead th {\n",
       "        text-align: right;\n",
       "    }\n",
       "</style>\n",
       "<table border=\"1\" class=\"dataframe\">\n",
       "  <thead>\n",
       "    <tr style=\"text-align: right;\">\n",
       "      <th></th>\n",
       "      <th>sftgcode</th>\n",
       "      <th>year</th>\n",
       "      <th>byregn2</th>\n",
       "      <th>sftptv2a</th>\n",
       "      <th>group</th>\n",
       "      <th>sftpcons</th>\n",
       "      <th>disp4cat</th>\n",
       "      <th>maccat</th>\n",
       "      <th>logim</th>\n",
       "      <th>sample</th>\n",
       "    </tr>\n",
       "  </thead>\n",
       "  <tbody>\n",
       "    <tr>\n",
       "      <td>0</td>\n",
       "      <td>AFG</td>\n",
       "      <td>1957</td>\n",
       "      <td>5</td>\n",
       "      <td>Full autocracy</td>\n",
       "      <td>1</td>\n",
       "      <td>0</td>\n",
       "      <td>0</td>\n",
       "      <td>0</td>\n",
       "      <td>0.660017</td>\n",
       "      <td>1.0</td>\n",
       "    </tr>\n",
       "    <tr>\n",
       "      <td>1</td>\n",
       "      <td>AFG</td>\n",
       "      <td>1962</td>\n",
       "      <td>5</td>\n",
       "      <td>Full autocracy</td>\n",
       "      <td>1</td>\n",
       "      <td>0</td>\n",
       "      <td>0</td>\n",
       "      <td>0</td>\n",
       "      <td>0.618346</td>\n",
       "      <td>1.0</td>\n",
       "    </tr>\n",
       "    <tr>\n",
       "      <td>2</td>\n",
       "      <td>AFG</td>\n",
       "      <td>1970</td>\n",
       "      <td>5</td>\n",
       "      <td>Full autocracy</td>\n",
       "      <td>1</td>\n",
       "      <td>0</td>\n",
       "      <td>0</td>\n",
       "      <td>0</td>\n",
       "      <td>0.617802</td>\n",
       "      <td>1.0</td>\n",
       "    </tr>\n",
       "    <tr>\n",
       "      <td>3</td>\n",
       "      <td>AFG</td>\n",
       "      <td>1978</td>\n",
       "      <td>5</td>\n",
       "      <td>Full autocracy</td>\n",
       "      <td>1</td>\n",
       "      <td>1</td>\n",
       "      <td>0</td>\n",
       "      <td>0</td>\n",
       "      <td>0.805741</td>\n",
       "      <td>1.0</td>\n",
       "    </tr>\n",
       "    <tr>\n",
       "      <td>4</td>\n",
       "      <td>ALB</td>\n",
       "      <td>1963</td>\n",
       "      <td>3</td>\n",
       "      <td>Full autocracy</td>\n",
       "      <td>1</td>\n",
       "      <td>0</td>\n",
       "      <td>0</td>\n",
       "      <td>0</td>\n",
       "      <td>0.018457</td>\n",
       "      <td>1.0</td>\n",
       "    </tr>\n",
       "    <tr>\n",
       "      <td>...</td>\n",
       "      <td>...</td>\n",
       "      <td>...</td>\n",
       "      <td>...</td>\n",
       "      <td>...</td>\n",
       "      <td>...</td>\n",
       "      <td>...</td>\n",
       "      <td>...</td>\n",
       "      <td>...</td>\n",
       "      <td>...</td>\n",
       "      <td>...</td>\n",
       "    </tr>\n",
       "    <tr>\n",
       "      <td>1399</td>\n",
       "      <td>ZAI</td>\n",
       "      <td>1985</td>\n",
       "      <td>1</td>\n",
       "      <td>Full autocracy</td>\n",
       "      <td>1</td>\n",
       "      <td>0</td>\n",
       "      <td>1</td>\n",
       "      <td>0</td>\n",
       "      <td>0.808144</td>\n",
       "      <td>3.0</td>\n",
       "    </tr>\n",
       "    <tr>\n",
       "      <td>1400</td>\n",
       "      <td>ZAI</td>\n",
       "      <td>1992</td>\n",
       "      <td>1</td>\n",
       "      <td>Full autocracy</td>\n",
       "      <td>2</td>\n",
       "      <td>1</td>\n",
       "      <td>1</td>\n",
       "      <td>1</td>\n",
       "      <td>0.920414</td>\n",
       "      <td>3.0</td>\n",
       "    </tr>\n",
       "    <tr>\n",
       "      <td>1401</td>\n",
       "      <td>ZAM</td>\n",
       "      <td>1996</td>\n",
       "      <td>1</td>\n",
       "      <td>Partial democracy with factionalism</td>\n",
       "      <td>2</td>\n",
       "      <td>1</td>\n",
       "      <td>0</td>\n",
       "      <td>0</td>\n",
       "      <td>0.959750</td>\n",
       "      <td>3.0</td>\n",
       "    </tr>\n",
       "    <tr>\n",
       "      <td>1402</td>\n",
       "      <td>ZIM</td>\n",
       "      <td>1972</td>\n",
       "      <td>1</td>\n",
       "      <td>Partial autocracy</td>\n",
       "      <td>3</td>\n",
       "      <td>1</td>\n",
       "      <td>1</td>\n",
       "      <td>0</td>\n",
       "      <td>-0.272383</td>\n",
       "      <td>3.0</td>\n",
       "    </tr>\n",
       "    <tr>\n",
       "      <td>1403</td>\n",
       "      <td>ZIM</td>\n",
       "      <td>1992</td>\n",
       "      <td>1</td>\n",
       "      <td>Full autocracy</td>\n",
       "      <td>2</td>\n",
       "      <td>0</td>\n",
       "      <td>1</td>\n",
       "      <td>0</td>\n",
       "      <td>0.075583</td>\n",
       "      <td>3.0</td>\n",
       "    </tr>\n",
       "  </tbody>\n",
       "</table>\n",
       "<p>1404 rows × 10 columns</p>\n",
       "</div>"
      ],
      "text/plain": [
       "     sftgcode  year  byregn2                             sftptv2a  group  \\\n",
       "0         AFG  1957        5                       Full autocracy      1   \n",
       "1         AFG  1962        5                       Full autocracy      1   \n",
       "2         AFG  1970        5                       Full autocracy      1   \n",
       "3         AFG  1978        5                       Full autocracy      1   \n",
       "4         ALB  1963        3                       Full autocracy      1   \n",
       "...       ...   ...      ...                                  ...    ...   \n",
       "1399      ZAI  1985        1                       Full autocracy      1   \n",
       "1400      ZAI  1992        1                       Full autocracy      2   \n",
       "1401      ZAM  1996        1  Partial democracy with factionalism      2   \n",
       "1402      ZIM  1972        1                    Partial autocracy      3   \n",
       "1403      ZIM  1992        1                       Full autocracy      2   \n",
       "\n",
       "      sftpcons  disp4cat  maccat     logim  sample  \n",
       "0            0         0       0  0.660017     1.0  \n",
       "1            0         0       0  0.618346     1.0  \n",
       "2            0         0       0  0.617802     1.0  \n",
       "3            1         0       0  0.805741     1.0  \n",
       "4            0         0       0  0.018457     1.0  \n",
       "...        ...       ...     ...       ...     ...  \n",
       "1399         0         1       0  0.808144     3.0  \n",
       "1400         1         1       1  0.920414     3.0  \n",
       "1401         1         0       0  0.959750     3.0  \n",
       "1402         1         1       0 -0.272383     3.0  \n",
       "1403         0         1       0  0.075583     3.0  \n",
       "\n",
       "[1404 rows x 10 columns]"
      ]
     },
     "execution_count": 64,
     "metadata": {},
     "output_type": "execute_result"
    }
   ],
   "source": [
    "pitf_data"
   ]
  },
  {
   "cell_type": "code",
   "execution_count": 20,
   "metadata": {
    "ExecuteTime": {
     "end_time": "2019-12-20T22:35:53.816057Z",
     "start_time": "2019-12-20T22:35:53.789269Z"
    }
   },
   "outputs": [],
   "source": [
    "#. filter for 1956-1989 data and make dummy variables\n",
    "pitf_matched_dr_pre = pitf_matched[pitf_matched['year'] <= 1989]\\\n",
    "                    .drop(columns=['match_id', 'group', 'sample', 'sftgcode', 'year'])\n",
    "pitf_matched_dm_pre = pd.get_dummies(pitf_matched_dr_pre, drop_first=True)\n",
    "\n",
    "x_train = pitf_matched_dm_pre.drop(columns=['sftpcons_1'])\n",
    "Y_train = pitf_matched_dm_pre['sftpcons_1']\n",
    "\n",
    "# fitting initial model for before year 1990\n",
    "lr = LogisticRegression()\n",
    "fit = lr.fit(x_train, Y_train)"
   ]
  },
  {
   "cell_type": "code",
   "execution_count": 21,
   "metadata": {
    "ExecuteTime": {
     "end_time": "2019-12-20T22:35:54.221434Z",
     "start_time": "2019-12-20T22:35:54.213845Z"
    }
   },
   "outputs": [
    {
     "data": {
      "text/plain": [
       "Index(['logim', 'byregn2_2', 'byregn2_3', 'byregn2_4', 'byregn2_5',\n",
       "       'sftptv2a_Full democracy', 'sftptv2a_Partial autocracy',\n",
       "       'sftptv2a_Partial democracy with factionalism',\n",
       "       'sftptv2a_Partial democracy without factionalism',\n",
       "       'sftptv2a_Transition', 'disp4cat_1', 'maccat_1'],\n",
       "      dtype='object')"
      ]
     },
     "execution_count": 21,
     "metadata": {},
     "output_type": "execute_result"
    }
   ],
   "source": [
    "x_train.columns"
   ]
  },
  {
   "cell_type": "markdown",
   "metadata": {},
   "source": [
    "## predict 1 year forward"
   ]
  },
  {
   "cell_type": "code",
   "execution_count": 58,
   "metadata": {
    "ExecuteTime": {
     "end_time": "2019-12-20T22:51:25.113511Z",
     "start_time": "2019-12-20T22:51:24.870616Z"
    },
    "scrolled": false
   },
   "outputs": [
    {
     "name": "stderr",
     "output_type": "stream",
     "text": [
      "C:\\Users\\606391\\AppData\\Local\\Programs\\Python\\Python37-32\\lib\\site-packages\\sklearn\\metrics\\_classification.py:1268: UndefinedMetricWarning: Precision is ill-defined and being set to 0.0 due to no predicted samples. Use `zero_division` parameter to control this behavior.\n",
      "  _warn_prf(average, modifier, msg_start, len(result))\n"
     ]
    }
   ],
   "source": [
    "from sklearn.metrics import accuracy_score, recall_score, precision_score\n",
    "\n",
    "accuracy_list = []\n",
    "recall_list = []\n",
    "precision_list = []\n",
    "years_list = [1989, 1990, 1991, 1992, 1994, 1995, 1996, 1997, 1998, 1999]\n",
    "\n",
    "for yr in years_list:\n",
    "    pitf_matched_dr_post = pitf_matched[pitf_matched['year']==yr]\\\n",
    "                            .drop(columns=['match_id', 'group', 'sample', 'sftgcode', 'year'])\n",
    "    pitf_matched_dm_post = pd.get_dummies(pitf_matched_dr_post, drop_first=True)\n",
    "    \n",
    "    x_test = pitf_matched_dm_post.drop(columns=['sftpcons_1'])\n",
    "    Y_test = pitf_matched_dm_post['sftpcons_1']\n",
    "    \n",
    "    # get metrics of prediction for current year\n",
    "    prediction = lr.predict(x_test)\n",
    "    accuracy_list.append(accuracy_score(Y_test, prediction))\n",
    "    recall_list.append(recall_score(Y_test, prediction))\n",
    "    precision_list.append(precision_score(Y_test, prediction))\n",
    "    \n",
    "    x_train = pd.concat([x_train, x_test], axis=0)\n",
    "    Y_train = pd.concat([Y_train, Y_test], axis=0)\n",
    "    \n",
    "    # fitting model again with 1 more year of data\n",
    "    lr = LogisticRegression(solver='lbfgs')\n",
    "    fit = lr.fit(x_train, Y_train)"
   ]
  },
  {
   "cell_type": "code",
   "execution_count": 47,
   "metadata": {
    "ExecuteTime": {
     "end_time": "2019-12-20T22:51:27.554432Z",
     "start_time": "2019-12-20T22:51:27.335675Z"
    }
   },
   "outputs": [
    {
     "data": {
      "text/plain": [
       "Text(0.5, 1.0, 'Accuracy predicting 1 year forward using PITF model')"
      ]
     },
     "execution_count": 47,
     "metadata": {},
     "output_type": "execute_result"
    },
    {
     "data": {
      "image/png": "[encoded data removed]",
      "text/plain": [
       "<Figure size 432x288 with 1 Axes>"
      ]
     },
     "metadata": {
      "needs_background": "light"
     },
     "output_type": "display_data"
    }
   ],
   "source": [
    "plt.plot(years_list, accuracy_list)\n",
    "plt.xlabel('Years')\n",
    "plt.ylabel('Accuracy')\n",
    "plt.title('Accuracy predicting 1 year forward using PITF model')"
   ]
  },
  {
   "cell_type": "code",
   "execution_count": 59,
   "metadata": {
    "ExecuteTime": {
     "end_time": "2019-12-20T22:51:28.509978Z",
     "start_time": "2019-12-20T22:51:28.304151Z"
    }
   },
   "outputs": [
    {
     "data": {
      "text/plain": [
       "Text(0.5, 1.0, 'Recall scores for predicting 1 year forward using PITF model')"
      ]
     },
     "execution_count": 59,
     "metadata": {},
     "output_type": "execute_result"
    },
    {
     "data": {
      "image/png": "[encoded data removed]",
      "text/plain": [
       "<Figure size 432x288 with 1 Axes>"
      ]
     },
     "metadata": {
      "needs_background": "light"
     },
     "output_type": "display_data"
    }
   ],
   "source": [
    "plt.plot(years_list, recall_list)\n",
    "plt.xlabel('Years')\n",
    "plt.ylabel('Recall Score')\n",
    "plt.title('Recall scores for predicting 1 year forward using PITF model')"
   ]
  },
  {
   "cell_type": "code",
   "execution_count": 25,
   "metadata": {
    "ExecuteTime": {
     "end_time": "2019-12-20T22:51:28.954268Z",
     "start_time": "2019-12-20T22:51:28.753140Z"
    }
   },
   "outputs": [
    {
     "data": {
      "text/plain": [
       "[<matplotlib.lines.Line2D at 0x180f9990>]"
      ]
     },
     "execution_count": 25,
     "metadata": {},
     "output_type": "execute_result"
    },
    {
     "data": {
      "image/png": "[encoded data removed]",
      "text/plain": [
       "<Figure size 432x288 with 1 Axes>"
      ]
     },
     "metadata": {
      "needs_background": "light"
     },
     "output_type": "display_data"
    }
   ],
   "source": [
    "plt.plot(years_list, precision_list)"
   ]
  },
  {
   "cell_type": "markdown",
   "metadata": {},
   "source": [
    "## Predict 3 years forward"
   ]
  },
  {
   "cell_type": "code",
   "execution_count": 26,
   "metadata": {
    "ExecuteTime": {
     "end_time": "2019-12-20T22:59:02.265256Z",
     "start_time": "2019-12-20T22:59:02.158241Z"
    }
   },
   "outputs": [],
   "source": [
    "\n",
    "from sklearn.metrics import accuracy_score, recall_score, precision_score, f1_score\n",
    "\n",
    "accuracy_list = []\n",
    "recall_list = []\n",
    "precision_list = []\n",
    "f1_list = []\n",
    "years_list = [1992, 1995, 1998]\n",
    "\n",
    "for yr in years_list:\n",
    "    pitf_matched_dr_post = pitf_matched[(pitf_matched['year'] >= 1990) & (pitf_matched['year'] <= yr)]\\\n",
    "                            .drop(columns=['match_id', 'group', 'sample', 'sftgcode', 'year'])\n",
    "    pitf_matched_dm_post = pd.get_dummies(pitf_matched_dr_post, drop_first=True)\n",
    "    \n",
    "    x_test = pitf_matched_dm_post.drop(columns=['sftpcons_1'])\n",
    "    Y_test = pitf_matched_dm_post['sftpcons_1']\n",
    "    \n",
    "    # get metrics of prediction for current year\n",
    "    prediction = lr.predict(x_test)\n",
    "    accuracy_list.append(accuracy_score(Y_test, prediction))\n",
    "    recall_list.append(recall_score(Y_test, prediction))\n",
    "    precision_list.append(precision_score(Y_test, prediction))\n",
    "    f1_list.append(f1_score(Y_test, prediction))\n",
    "    \n",
    "    x_train = pd.concat([x_train, x_test], axis=0)\n",
    "    Y_train = pd.concat([Y_train, Y_test], axis=0)\n",
    "    \n",
    "    # fitting model again with 1 more year of data\n",
    "    lr = LogisticRegression(solver='lbfgs')\n",
    "    fit = lr.fit(x_train, Y_train)"
   ]
  },
  {
   "cell_type": "code",
   "execution_count": 27,
   "metadata": {
    "ExecuteTime": {
     "end_time": "2019-12-20T22:56:54.159746Z",
     "start_time": "2019-12-20T22:56:53.932732Z"
    },
    "scrolled": true
   },
   "outputs": [
    {
     "data": {
      "text/plain": [
       "[<matplotlib.lines.Line2D at 0x1813ae90>]"
      ]
     },
     "execution_count": 27,
     "metadata": {},
     "output_type": "execute_result"
    },
    {
     "data": {
      "image/png": "[encoded data removed]",
      "text/plain": [
       "<Figure size 432x288 with 1 Axes>"
      ]
     },
     "metadata": {
      "needs_background": "light"
     },
     "output_type": "display_data"
    }
   ],
   "source": [
    "plt.plot(years_list, accuracy_list)"
   ]
  },
  {
   "cell_type": "code",
   "execution_count": 28,
   "metadata": {
    "ExecuteTime": {
     "end_time": "2019-12-20T22:59:13.257125Z",
     "start_time": "2019-12-20T22:59:13.040662Z"
    }
   },
   "outputs": [
    {
     "data": {
      "text/plain": [
       "[<matplotlib.lines.Line2D at 0x1817c690>]"
      ]
     },
     "execution_count": 28,
     "metadata": {},
     "output_type": "execute_result"
    },
    {
     "data": {
      "image/png": "[encoded data removed]",
      "text/plain": [
       "<Figure size 432x288 with 1 Axes>"
      ]
     },
     "metadata": {
      "needs_background": "light"
     },
     "output_type": "display_data"
    }
   ],
   "source": [
    "plt.plot(years_list, f1_list)"
   ]
  },
  {
   "cell_type": "code",
   "execution_count": 29,
   "metadata": {
    "ExecuteTime": {
     "end_time": "2019-12-20T22:57:12.888252Z",
     "start_time": "2019-12-20T22:57:12.668738Z"
    }
   },
   "outputs": [
    {
     "data": {
      "text/plain": [
       "[<matplotlib.lines.Line2D at 0x181b4d50>]"
      ]
     },
     "execution_count": 29,
     "metadata": {},
     "output_type": "execute_result"
    },
    {
     "data": {
      "image/png": "[encoded data removed]",
      "text/plain": [
       "<Figure size 432x288 with 1 Axes>"
      ]
     },
     "metadata": {
      "needs_background": "light"
     },
     "output_type": "display_data"
    }
   ],
   "source": [
    "plt.plot(years_list, recall_list)"
   ]
  },
  {
   "cell_type": "code",
   "execution_count": 30,
   "metadata": {
    "ExecuteTime": {
     "end_time": "2019-12-20T22:57:11.540423Z",
     "start_time": "2019-12-20T22:57:11.318317Z"
    }
   },
   "outputs": [
    {
     "data": {
      "text/plain": [
       "[<matplotlib.lines.Line2D at 0x181f1f30>]"
      ]
     },
     "execution_count": 30,
     "metadata": {},
     "output_type": "execute_result"
    },
    {
     "data": {
      "image/png": "[encoded data removed]",
      "text/plain": [
       "<Figure size 432x288 with 1 Axes>"
      ]
     },
     "metadata": {
      "needs_background": "light"
     },
     "output_type": "display_data"
    }
   ],
   "source": [
    "plt.plot(years_list, precision_list)"
   ]
  },
  {
   "cell_type": "markdown",
   "metadata": {},
   "source": [
    "## predicting 5 years forwards"
   ]
  },
  {
   "cell_type": "code",
   "execution_count": 60,
   "metadata": {
    "ExecuteTime": {
     "end_time": "2019-12-21T16:12:42.277933Z",
     "start_time": "2019-12-21T16:12:42.171932Z"
    }
   },
   "outputs": [],
   "source": [
    "from sklearn.metrics import accuracy_score, recall_score, precision_score, f1_score\n",
    "\n",
    "accuracy_list = []\n",
    "recall_list = []\n",
    "precision_list = []\n",
    "f1_list = []\n",
    "years_list = [1994, 1999]\n",
    "\n",
    "for yr in years_list:\n",
    "    pitf_matched_dr_post = pitf_matched[(pitf_matched['year'] >= yr-5) & (pitf_matched['year'] <= yr)]\\\n",
    "                            .drop(columns=['match_id', 'group', 'sample', 'sftgcode', 'year'])\n",
    "    pitf_matched_dm_post = pd.get_dummies(pitf_matched_dr_post, drop_first=True)\n",
    "    \n",
    "    x_test = pitf_matched_dm_post.drop(columns=['sftpcons_1'])\n",
    "    Y_test = pitf_matched_dm_post['sftpcons_1']\n",
    "    \n",
    "    # get metrics of prediction for current year range\n",
    "    prediction = lr.predict(x_test)\n",
    "    accuracy_list.append(accuracy_score(Y_test, prediction))\n",
    "    recall_list.append(recall_score(Y_test, prediction))\n",
    "    precision_list.append(precision_score(Y_test, prediction))\n",
    "    f1_list.append(f1_score(Y_test, prediction))\n",
    "    \n",
    "    x_train = pd.concat([x_train, x_test], axis=0)\n",
    "    Y_train = pd.concat([Y_train, Y_test], axis=0)\n",
    "    \n",
    "    # fitting model again with 5 more years of data\n",
    "    lr = LogisticRegression(solver='lbfgs')\n",
    "    fit = lr.fit(x_train, Y_train)"
   ]
  },
  {
   "cell_type": "code",
   "execution_count": 51,
   "metadata": {
    "ExecuteTime": {
     "end_time": "2019-12-21T16:12:46.112766Z",
     "start_time": "2019-12-21T16:12:45.843436Z"
    },
    "scrolled": true
   },
   "outputs": [
    {
     "data": {
      "text/plain": [
       "Text(0.5, 1.0, 'Accuracy predicting 5 years forward using PITF model')"
      ]
     },
     "execution_count": 51,
     "metadata": {},
     "output_type": "execute_result"
    },
    {
     "data": {
      "image/png": "[encoded data removed]",
      "text/plain": [
       "<Figure size 432x288 with 1 Axes>"
      ]
     },
     "metadata": {
      "needs_background": "light"
     },
     "output_type": "display_data"
    }
   ],
   "source": [
    "plt.plot(years_list, accuracy_list)\n",
    "plt.xlabel('Years')\n",
    "plt.ylabel('Accuracy')\n",
    "plt.title('Accuracy predicting 5 years forward using PITF model')"
   ]
  },
  {
   "cell_type": "code",
   "execution_count": 56,
   "metadata": {
    "ExecuteTime": {
     "end_time": "2019-12-21T16:12:48.286916Z",
     "start_time": "2019-12-21T16:12:48.045798Z"
    },
    "scrolled": false
   },
   "outputs": [
    {
     "data": {
      "text/plain": [
       "Text(0.5, 1.0, 'F1-scores predicting 5 years forward using PITF model')"
      ]
     },
     "execution_count": 56,
     "metadata": {},
     "output_type": "execute_result"
    },
    {
     "data": {
      "image/png": "[encoded data removed]",
      "text/plain": [
       "<Figure size 432x288 with 1 Axes>"
      ]
     },
     "metadata": {
      "needs_background": "light"
     },
     "output_type": "display_data"
    }
   ],
   "source": [
    "plt.plot(years_list, f1_list)\n",
    "plt.xlabel('Years')\n",
    "plt.ylabel('f1-score')\n",
    "plt.title('F1-scores predicting 5 years forward using PITF model')"
   ]
  },
  {
   "cell_type": "code",
   "execution_count": 55,
   "metadata": {
    "ExecuteTime": {
     "end_time": "2019-12-21T16:12:50.071295Z",
     "start_time": "2019-12-21T16:12:49.849569Z"
    },
    "scrolled": false
   },
   "outputs": [
    {
     "data": {
      "text/plain": [
       "Text(0.5, 1.0, 'Precision predicting 5 years forward using PITF model')"
      ]
     },
     "execution_count": 55,
     "metadata": {},
     "output_type": "execute_result"
    },
    {
     "data": {
      "image/png": "[encoded data removed]",
      "text/plain": [
       "<Figure size 432x288 with 1 Axes>"
      ]
     },
     "metadata": {
      "needs_background": "light"
     },
     "output_type": "display_data"
    }
   ],
   "source": [
    "plt.plot(years_list, precision_list)\n",
    "plt.xlabel('Years')\n",
    "plt.ylabel('Precision')\n",
    "plt.title('Precision predicting 5 years forward using PITF model')"
   ]
  },
  {
   "cell_type": "code",
   "execution_count": 61,
   "metadata": {
    "ExecuteTime": {
     "end_time": "2019-12-21T16:12:52.165283Z",
     "start_time": "2019-12-21T16:12:51.953749Z"
    },
    "scrolled": true
   },
   "outputs": [
    {
     "data": {
      "text/plain": [
       "Text(0.5, 1.0, 'Recall scores for predicting 5 years forward using PITF model')"
      ]
     },
     "execution_count": 61,
     "metadata": {},
     "output_type": "execute_result"
    },
    {
     "data": {
      "image/png": "[encoded data removed]",
      "text/plain": [
       "<Figure size 432x288 with 1 Axes>"
      ]
     },
     "metadata": {
      "needs_background": "light"
     },
     "output_type": "display_data"
    }
   ],
   "source": [
    "plt.plot(years_list, recall_list)\n",
    "plt.xlabel('Years')\n",
    "plt.ylabel('Recall Scores')\n",
    "plt.title('Recall scores for predicting 5 years forward using PITF model')"
   ]
  },
  {
   "cell_type": "markdown",
   "metadata": {},
   "source": [
    "## exploring some of the results"
   ]
  },
  {
   "cell_type": "code",
   "execution_count": 36,
   "metadata": {
    "ExecuteTime": {
     "end_time": "2019-12-21T16:21:30.812679Z",
     "start_time": "2019-12-21T16:21:30.794013Z"
    }
   },
   "outputs": [
    {
     "data": {
      "text/html": [
       "<div>\n",
       "<style scoped>\n",
       "    .dataframe tbody tr th:only-of-type {\n",
       "        vertical-align: middle;\n",
       "    }\n",
       "\n",
       "    .dataframe tbody tr th {\n",
       "        vertical-align: top;\n",
       "    }\n",
       "\n",
       "    .dataframe thead th {\n",
       "        text-align: right;\n",
       "    }\n",
       "</style>\n",
       "<table border=\"1\" class=\"dataframe\">\n",
       "  <thead>\n",
       "    <tr style=\"text-align: right;\">\n",
       "      <th></th>\n",
       "      <th>sftgcode</th>\n",
       "      <th>year</th>\n",
       "      <th>byregn2</th>\n",
       "      <th>sftptv2a</th>\n",
       "      <th>group</th>\n",
       "      <th>sftpcons</th>\n",
       "      <th>disp4cat</th>\n",
       "      <th>maccat</th>\n",
       "      <th>logim</th>\n",
       "      <th>sample</th>\n",
       "      <th>match_id</th>\n",
       "    </tr>\n",
       "  </thead>\n",
       "  <tbody>\n",
       "    <tr>\n",
       "      <td>526</td>\n",
       "      <td>BUL</td>\n",
       "      <td>1995</td>\n",
       "      <td>3</td>\n",
       "      <td>Partial democracy with factionalism</td>\n",
       "      <td>1</td>\n",
       "      <td>0</td>\n",
       "      <td>0</td>\n",
       "      <td>0</td>\n",
       "      <td>-0.681946</td>\n",
       "      <td>2.0</td>\n",
       "      <td>218</td>\n",
       "    </tr>\n",
       "  </tbody>\n",
       "</table>\n",
       "</div>"
      ],
      "text/plain": [
       "    sftgcode  year byregn2                             sftptv2a group  \\\n",
       "526      BUL  1995       3  Partial democracy with factionalism     1   \n",
       "\n",
       "    sftpcons disp4cat maccat     logim  sample  match_id  \n",
       "526        0        0      0 -0.681946     2.0       218  "
      ]
     },
     "execution_count": 36,
     "metadata": {},
     "output_type": "execute_result"
    }
   ],
   "source": [
    "pitf_matched[pitf_matched.iloc[:, 0].index==526]"
   ]
  },
  {
   "cell_type": "code",
   "execution_count": 37,
   "metadata": {
    "ExecuteTime": {
     "end_time": "2019-12-21T16:19:06.529932Z",
     "start_time": "2019-12-21T16:19:06.512841Z"
    },
    "scrolled": false
   },
   "outputs": [
    {
     "data": {
      "text/html": [
       "<div>\n",
       "<style scoped>\n",
       "    .dataframe tbody tr th:only-of-type {\n",
       "        vertical-align: middle;\n",
       "    }\n",
       "\n",
       "    .dataframe tbody tr th {\n",
       "        vertical-align: top;\n",
       "    }\n",
       "\n",
       "    .dataframe thead th {\n",
       "        text-align: right;\n",
       "    }\n",
       "</style>\n",
       "<table border=\"1\" class=\"dataframe\">\n",
       "  <thead>\n",
       "    <tr style=\"text-align: right;\">\n",
       "      <th></th>\n",
       "      <th>logim</th>\n",
       "      <th>byregn2_2</th>\n",
       "      <th>byregn2_3</th>\n",
       "      <th>byregn2_4</th>\n",
       "      <th>byregn2_5</th>\n",
       "      <th>sftptv2a_Full democracy</th>\n",
       "      <th>sftptv2a_Partial autocracy</th>\n",
       "      <th>sftptv2a_Partial democracy with factionalism</th>\n",
       "      <th>sftptv2a_Partial democracy without factionalism</th>\n",
       "      <th>sftptv2a_Transition</th>\n",
       "      <th>disp4cat_1</th>\n",
       "      <th>maccat_1</th>\n",
       "    </tr>\n",
       "  </thead>\n",
       "  <tbody>\n",
       "    <tr>\n",
       "      <td>562</td>\n",
       "      <td>0.931444</td>\n",
       "      <td>0</td>\n",
       "      <td>0</td>\n",
       "      <td>0</td>\n",
       "      <td>0</td>\n",
       "      <td>0</td>\n",
       "      <td>0</td>\n",
       "      <td>1</td>\n",
       "      <td>0</td>\n",
       "      <td>0</td>\n",
       "      <td>0</td>\n",
       "      <td>0</td>\n",
       "    </tr>\n",
       "    <tr>\n",
       "      <td>614</td>\n",
       "      <td>0.500510</td>\n",
       "      <td>0</td>\n",
       "      <td>0</td>\n",
       "      <td>0</td>\n",
       "      <td>0</td>\n",
       "      <td>0</td>\n",
       "      <td>0</td>\n",
       "      <td>0</td>\n",
       "      <td>0</td>\n",
       "      <td>0</td>\n",
       "      <td>0</td>\n",
       "      <td>0</td>\n",
       "    </tr>\n",
       "    <tr>\n",
       "      <td>724</td>\n",
       "      <td>0.892224</td>\n",
       "      <td>0</td>\n",
       "      <td>0</td>\n",
       "      <td>0</td>\n",
       "      <td>0</td>\n",
       "      <td>0</td>\n",
       "      <td>0</td>\n",
       "      <td>0</td>\n",
       "      <td>1</td>\n",
       "      <td>0</td>\n",
       "      <td>0</td>\n",
       "      <td>0</td>\n",
       "    </tr>\n",
       "    <tr>\n",
       "      <td>888</td>\n",
       "      <td>0.699385</td>\n",
       "      <td>0</td>\n",
       "      <td>0</td>\n",
       "      <td>0</td>\n",
       "      <td>0</td>\n",
       "      <td>0</td>\n",
       "      <td>1</td>\n",
       "      <td>0</td>\n",
       "      <td>0</td>\n",
       "      <td>0</td>\n",
       "      <td>0</td>\n",
       "      <td>0</td>\n",
       "    </tr>\n",
       "    <tr>\n",
       "      <td>479</td>\n",
       "      <td>-0.299854</td>\n",
       "      <td>0</td>\n",
       "      <td>1</td>\n",
       "      <td>0</td>\n",
       "      <td>0</td>\n",
       "      <td>0</td>\n",
       "      <td>0</td>\n",
       "      <td>0</td>\n",
       "      <td>1</td>\n",
       "      <td>0</td>\n",
       "      <td>0</td>\n",
       "      <td>1</td>\n",
       "    </tr>\n",
       "    <tr>\n",
       "      <td>488</td>\n",
       "      <td>-1.815827</td>\n",
       "      <td>0</td>\n",
       "      <td>1</td>\n",
       "      <td>0</td>\n",
       "      <td>0</td>\n",
       "      <td>1</td>\n",
       "      <td>0</td>\n",
       "      <td>0</td>\n",
       "      <td>0</td>\n",
       "      <td>0</td>\n",
       "      <td>0</td>\n",
       "      <td>0</td>\n",
       "    </tr>\n",
       "    <tr>\n",
       "      <td>526</td>\n",
       "      <td>-0.681946</td>\n",
       "      <td>0</td>\n",
       "      <td>1</td>\n",
       "      <td>0</td>\n",
       "      <td>0</td>\n",
       "      <td>0</td>\n",
       "      <td>0</td>\n",
       "      <td>1</td>\n",
       "      <td>0</td>\n",
       "      <td>0</td>\n",
       "      <td>0</td>\n",
       "      <td>0</td>\n",
       "    </tr>\n",
       "    <tr>\n",
       "      <td>608</td>\n",
       "      <td>-1.847079</td>\n",
       "      <td>0</td>\n",
       "      <td>1</td>\n",
       "      <td>0</td>\n",
       "      <td>0</td>\n",
       "      <td>1</td>\n",
       "      <td>0</td>\n",
       "      <td>0</td>\n",
       "      <td>0</td>\n",
       "      <td>0</td>\n",
       "      <td>1</td>\n",
       "      <td>0</td>\n",
       "    </tr>\n",
       "    <tr>\n",
       "      <td>509</td>\n",
       "      <td>-1.077559</td>\n",
       "      <td>0</td>\n",
       "      <td>1</td>\n",
       "      <td>0</td>\n",
       "      <td>0</td>\n",
       "      <td>0</td>\n",
       "      <td>0</td>\n",
       "      <td>1</td>\n",
       "      <td>0</td>\n",
       "      <td>0</td>\n",
       "      <td>0</td>\n",
       "      <td>0</td>\n",
       "    </tr>\n",
       "    <tr>\n",
       "      <td>657</td>\n",
       "      <td>-1.879340</td>\n",
       "      <td>0</td>\n",
       "      <td>1</td>\n",
       "      <td>0</td>\n",
       "      <td>0</td>\n",
       "      <td>1</td>\n",
       "      <td>0</td>\n",
       "      <td>0</td>\n",
       "      <td>0</td>\n",
       "      <td>0</td>\n",
       "      <td>0</td>\n",
       "      <td>0</td>\n",
       "    </tr>\n",
       "  </tbody>\n",
       "</table>\n",
       "</div>"
      ],
      "text/plain": [
       "        logim  byregn2_2  byregn2_3  byregn2_4  byregn2_5  \\\n",
       "562  0.931444          0          0          0          0   \n",
       "614  0.500510          0          0          0          0   \n",
       "724  0.892224          0          0          0          0   \n",
       "888  0.699385          0          0          0          0   \n",
       "479 -0.299854          0          1          0          0   \n",
       "488 -1.815827          0          1          0          0   \n",
       "526 -0.681946          0          1          0          0   \n",
       "608 -1.847079          0          1          0          0   \n",
       "509 -1.077559          0          1          0          0   \n",
       "657 -1.879340          0          1          0          0   \n",
       "\n",
       "     sftptv2a_Full democracy  sftptv2a_Partial autocracy  \\\n",
       "562                        0                           0   \n",
       "614                        0                           0   \n",
       "724                        0                           0   \n",
       "888                        0                           1   \n",
       "479                        0                           0   \n",
       "488                        1                           0   \n",
       "526                        0                           0   \n",
       "608                        1                           0   \n",
       "509                        0                           0   \n",
       "657                        1                           0   \n",
       "\n",
       "     sftptv2a_Partial democracy with factionalism  \\\n",
       "562                                             1   \n",
       "614                                             0   \n",
       "724                                             0   \n",
       "888                                             0   \n",
       "479                                             0   \n",
       "488                                             0   \n",
       "526                                             1   \n",
       "608                                             0   \n",
       "509                                             1   \n",
       "657                                             0   \n",
       "\n",
       "     sftptv2a_Partial democracy without factionalism  sftptv2a_Transition  \\\n",
       "562                                                0                    0   \n",
       "614                                                0                    0   \n",
       "724                                                1                    0   \n",
       "888                                                0                    0   \n",
       "479                                                1                    0   \n",
       "488                                                0                    0   \n",
       "526                                                0                    0   \n",
       "608                                                0                    0   \n",
       "509                                                0                    0   \n",
       "657                                                0                    0   \n",
       "\n",
       "     disp4cat_1  maccat_1  \n",
       "562           0         0  \n",
       "614           0         0  \n",
       "724           0         0  \n",
       "888           0         0  \n",
       "479           0         1  \n",
       "488           0         0  \n",
       "526           0         0  \n",
       "608           1         0  \n",
       "509           0         0  \n",
       "657           0         0  "
      ]
     },
     "execution_count": 37,
     "metadata": {},
     "output_type": "execute_result"
    }
   ],
   "source": [
    "x_test[80:90]"
   ]
  },
  {
   "cell_type": "code",
   "execution_count": 38,
   "metadata": {
    "ExecuteTime": {
     "end_time": "2019-12-21T16:19:06.867399Z",
     "start_time": "2019-12-21T16:19:06.859739Z"
    },
    "scrolled": false
   },
   "outputs": [
    {
     "data": {
      "text/plain": [
       "array([[0.28885325, 0.71114675],\n",
       "       [0.92048765, 0.07951235],\n",
       "       [0.77310996, 0.22689004],\n",
       "       [0.69290937, 0.30709063],\n",
       "       [0.15665733, 0.84334267],\n",
       "       [0.94961987, 0.05038013],\n",
       "       [0.34745788, 0.65254212],\n",
       "       [0.89567191, 0.10432809],\n",
       "       [0.50692655, 0.49307345],\n",
       "       [0.95443995, 0.04556005]])"
      ]
     },
     "execution_count": 38,
     "metadata": {},
     "output_type": "execute_result"
    }
   ],
   "source": [
    "lr.predict_proba(x_test)[80:90]"
   ]
  },
  {
   "cell_type": "code",
   "execution_count": 39,
   "metadata": {
    "ExecuteTime": {
     "end_time": "2019-12-21T16:19:07.229286Z",
     "start_time": "2019-12-21T16:19:07.223619Z"
    }
   },
   "outputs": [
    {
     "data": {
      "text/plain": [
       "562    1\n",
       "614    0\n",
       "724    0\n",
       "888    0\n",
       "479    1\n",
       "488    0\n",
       "526    0\n",
       "608    0\n",
       "509    1\n",
       "657    0\n",
       "Name: sftpcons_1, dtype: uint8"
      ]
     },
     "execution_count": 39,
     "metadata": {},
     "output_type": "execute_result"
    }
   ],
   "source": [
    "Y_test[80:90]"
   ]
  },
  {
   "cell_type": "code",
   "execution_count": 40,
   "metadata": {
    "ExecuteTime": {
     "end_time": "2019-12-21T16:20:03.554499Z",
     "start_time": "2019-12-21T16:20:03.548633Z"
    }
   },
   "outputs": [
    {
     "data": {
      "text/plain": [
       "array([1, 0, 0, 0, 1, 0, 1, 0, 1, 0], dtype=uint8)"
      ]
     },
     "execution_count": 40,
     "metadata": {},
     "output_type": "execute_result"
    }
   ],
   "source": [
    "prediction[80:90]"
   ]
  },
  {
   "cell_type": "code",
   "execution_count": null,
   "metadata": {},
   "outputs": [],
   "source": []
  },
  {
   "cell_type": "code",
   "execution_count": null,
   "metadata": {},
   "outputs": [],
   "source": []
  },
  {
   "cell_type": "code",
   "execution_count": null,
   "metadata": {},
   "outputs": [],
   "source": []
  },
  {
   "cell_type": "code",
   "execution_count": null,
   "metadata": {},
   "outputs": [],
   "source": []
  },
  {
   "cell_type": "code",
   "execution_count": null,
   "metadata": {},
   "outputs": [],
   "source": []
  },
  {
   "cell_type": "code",
   "execution_count": 41,
   "metadata": {
    "ExecuteTime": {
     "end_time": "2019-12-20T21:10:53.343958Z",
     "start_time": "2019-12-20T21:10:53.338812Z"
    },
    "scrolled": true
   },
   "outputs": [],
   "source": [
    "pitf_matched = pitf_matched.reset_index(drop=True)"
   ]
  },
  {
   "cell_type": "code",
   "execution_count": 42,
   "metadata": {
    "ExecuteTime": {
     "end_time": "2019-12-20T21:10:53.383285Z",
     "start_time": "2019-12-20T21:10:53.364747Z"
    },
    "scrolled": false
   },
   "outputs": [
    {
     "ename": "ModuleNotFoundError",
     "evalue": "No module named 'choicemodels'",
     "output_type": "error",
     "traceback": [
      "\u001b[1;31m---------------------------------------------------------------------------\u001b[0m",
      "\u001b[1;31mModuleNotFoundError\u001b[0m                       Traceback (most recent call last)",
      "\u001b[1;32m<ipython-input-42-ba2cfcc2d8b4>\u001b[0m in \u001b[0;36m<module>\u001b[1;34m\u001b[0m\n\u001b[1;32m----> 1\u001b[1;33m \u001b[1;32mfrom\u001b[0m \u001b[0mchoicemodels\u001b[0m \u001b[1;32mimport\u001b[0m \u001b[0mMultinomialLogit\u001b[0m\u001b[1;33m,\u001b[0m \u001b[0mMultinomialLogitResults\u001b[0m\u001b[1;33m\u001b[0m\u001b[1;33m\u001b[0m\u001b[0m\n\u001b[0m\u001b[0;32m      2\u001b[0m \u001b[1;31m# pitf_matched.set_index('match_id', inplace=True)\u001b[0m\u001b[1;33m\u001b[0m\u001b[1;33m\u001b[0m\u001b[1;33m\u001b[0m\u001b[0m\n\u001b[0;32m      3\u001b[0m results = MultinomialLogit(pitf_matched.loc[:, ['disp4cat', 'maccat', 'logim', 'sftptv2a']],\\\n\u001b[0;32m      4\u001b[0m                         \u001b[0mobservation_id_col\u001b[0m\u001b[1;33m=\u001b[0m\u001b[1;34m'match_id'\u001b[0m\u001b[1;33m,\u001b[0m\u001b[0;31m\\\u001b[0m\u001b[1;33m\u001b[0m\u001b[1;33m\u001b[0m\u001b[0m\n\u001b[0;32m      5\u001b[0m                         \u001b[0mmodel_expression\u001b[0m\u001b[1;33m=\u001b[0m\u001b[1;34m'disp4cat +  maccat + logim + sftptv2a'\u001b[0m\u001b[1;33m,\u001b[0m\u001b[0;31m\\\u001b[0m\u001b[1;33m\u001b[0m\u001b[1;33m\u001b[0m\u001b[0m\n",
      "\u001b[1;31mModuleNotFoundError\u001b[0m: No module named 'choicemodels'"
     ]
    }
   ],
   "source": [
    "from choicemodels import MultinomialLogit, MultinomialLogitResults\n",
    "# pitf_matched.set_index('match_id', inplace=True)\n",
    "results = MultinomialLogit(pitf_matched.loc[:, ['disp4cat', 'maccat', 'logim', 'sftptv2a']],\\\n",
    "                        observation_id_col='match_id',\\\n",
    "                        model_expression='disp4cat +  maccat + logim + sftptv2a',\\\n",
    "                        choice_col='sftpcons')"
   ]
  },
  {
   "cell_type": "code",
   "execution_count": null,
   "metadata": {
    "ExecuteTime": {
     "end_time": "2019-12-20T21:10:53.385836Z",
     "start_time": "2019-12-20T21:10:53.171Z"
    }
   },
   "outputs": [],
   "source": [
    "X = pitf_matched.loc[:, ['disp4cat', 'maccat', 'logim', 'sftptv2a']]\n",
    "\n",
    "from sklearn.linear_model import LinearRegression\n",
    "lr = LinearRegression()\n",
    "lr.fit()"
   ]
  },
  {
   "cell_type": "code",
   "execution_count": null,
   "metadata": {},
   "outputs": [],
   "source": []
  },
  {
   "cell_type": "code",
   "execution_count": null,
   "metadata": {},
   "outputs": [],
   "source": []
  },
  {
   "cell_type": "markdown",
   "metadata": {},
   "source": [
    "## Creating our own case-match data (not needed as PITF supplied data comes cleaned and matched)"
   ]
  },
  {
   "cell_type": "code",
   "execution_count": null,
   "metadata": {
    "ExecuteTime": {
     "end_time": "2019-12-20T21:10:53.387645Z",
     "start_time": "2019-12-20T21:10:53.174Z"
    }
   },
   "outputs": [],
   "source": [
    "#. creating test and control classes\n",
    "test = pitf_data[pitf_data['sftpcons']==1]\n",
    "control = pitf_data[pitf_data['sftpcons']==0]"
   ]
  },
  {
   "cell_type": "code",
   "execution_count": null,
   "metadata": {
    "ExecuteTime": {
     "end_time": "2019-12-20T21:10:53.389112Z",
     "start_time": "2019-12-20T21:10:53.175Z"
    }
   },
   "outputs": [],
   "source": [
    "1053/351"
   ]
  },
  {
   "cell_type": "code",
   "execution_count": null,
   "metadata": {
    "ExecuteTime": {
     "end_time": "2019-12-20T21:10:53.390658Z",
     "start_time": "2019-12-20T21:10:53.176Z"
    }
   },
   "outputs": [],
   "source": [
    "np.array(test.columns)"
   ]
  },
  {
   "cell_type": "code",
   "execution_count": null,
   "metadata": {
    "ExecuteTime": {
     "end_time": "2019-12-20T21:10:53.392058Z",
     "start_time": "2019-12-20T21:10:53.177Z"
    }
   },
   "outputs": [],
   "source": [
    "test.head(3)"
   ]
  },
  {
   "cell_type": "code",
   "execution_count": null,
   "metadata": {
    "ExecuteTime": {
     "end_time": "2019-12-20T21:10:53.393766Z",
     "start_time": "2019-12-20T21:10:53.178Z"
    }
   },
   "outputs": [],
   "source": [
    "#. calculating propensity scores\n",
    "m = Matcher(test, control, \n",
    "            exclude=['sample', 'logim', 'maccat', 'sftptv2a', 'sftgcode', 'disp4cat'], \n",
    "            yvar='sftpcons')"
   ]
  },
  {
   "cell_type": "code",
   "execution_count": null,
   "metadata": {
    "ExecuteTime": {
     "end_time": "2019-12-20T21:10:53.395057Z",
     "start_time": "2019-12-20T21:10:53.179Z"
    }
   },
   "outputs": [],
   "source": [
    "m.fit_scores(balance=True, nmodels=100)"
   ]
  },
  {
   "cell_type": "code",
   "execution_count": null,
   "metadata": {
    "ExecuteTime": {
     "end_time": "2019-12-20T21:10:53.396234Z",
     "start_time": "2019-12-20T21:10:53.180Z"
    }
   },
   "outputs": [],
   "source": [
    "m.predict_scores()"
   ]
  },
  {
   "cell_type": "code",
   "execution_count": null,
   "metadata": {
    "ExecuteTime": {
     "end_time": "2019-12-20T21:10:53.397343Z",
     "start_time": "2019-12-20T21:10:53.181Z"
    }
   },
   "outputs": [],
   "source": [
    "m.plot_scores()"
   ]
  },
  {
   "cell_type": "code",
   "execution_count": null,
   "metadata": {
    "ExecuteTime": {
     "end_time": "2019-12-20T21:10:53.398528Z",
     "start_time": "2019-12-20T21:10:53.182Z"
    }
   },
   "outputs": [],
   "source": [
    "m.tune_threshold(method='min')"
   ]
  },
  {
   "cell_type": "code",
   "execution_count": null,
   "metadata": {
    "ExecuteTime": {
     "end_time": "2019-12-20T21:10:53.399885Z",
     "start_time": "2019-12-20T21:10:53.183Z"
    }
   },
   "outputs": [],
   "source": [
    "m.match(threshold=0.0001, nmatches=3, method='min')"
   ]
  },
  {
   "cell_type": "code",
   "execution_count": null,
   "metadata": {
    "ExecuteTime": {
     "end_time": "2019-12-20T21:10:53.400961Z",
     "start_time": "2019-12-20T21:10:53.184Z"
    }
   },
   "outputs": [],
   "source": [
    "m.record_frequency()"
   ]
  },
  {
   "cell_type": "code",
   "execution_count": null,
   "metadata": {
    "ExecuteTime": {
     "end_time": "2019-12-20T21:10:53.402440Z",
     "start_time": "2019-12-20T21:10:53.185Z"
    }
   },
   "outputs": [],
   "source": [
    "m.assign_weight_vector()\n"
   ]
  },
  {
   "cell_type": "code",
   "execution_count": null,
   "metadata": {
    "ExecuteTime": {
     "end_time": "2019-12-20T21:10:53.404066Z",
     "start_time": "2019-12-20T21:10:53.186Z"
    }
   },
   "outputs": [],
   "source": [
    "m.matched_data.sort_values(\"match_id\")"
   ]
  },
  {
   "cell_type": "code",
   "execution_count": null,
   "metadata": {},
   "outputs": [],
   "source": []
  }
 ],
 "metadata": {
  "kernelspec": {
   "display_name": "Python 3",
   "language": "python",
   "name": "python3"
  },
  "language_info": {
   "codemirror_mode": {
    "name": "ipython",
    "version": 3
   },
   "file_extension": ".py",
   "mimetype": "text/x-python",
   "name": "python",
   "nbconvert_exporter": "python",
   "pygments_lexer": "ipython3",
   "version": "3.7.4"
  }
 },
 "nbformat": 4,
 "nbformat_minor": 2
}
